{
  "nbformat": 4,
  "nbformat_minor": 0,
  "metadata": {
    "colab": {
      "provenance": [],
      "authorship_tag": "ABX9TyNGh+QpZhWqaM0Im8zIvRgj",
      "include_colab_link": true
    },
    "kernelspec": {
      "name": "python3",
      "display_name": "Python 3"
    },
    "language_info": {
      "name": "python"
    }
  },
  "cells": [
    {
      "cell_type": "markdown",
      "metadata": {
        "id": "view-in-github",
        "colab_type": "text"
      },
      "source": [
        "<a href=\"https://colab.research.google.com/github/LuanLucasFS/100DaysOfPy/blob/main/BrainTumorIdentification.ipynb\" target=\"_parent\"><img src=\"https://colab.research.google.com/assets/colab-badge.svg\" alt=\"Open In Colab\"/></a>"
      ]
    },
    {
      "cell_type": "code",
      "source": [
        "import os\n",
        "import cv2\n",
        "import random\n",
        "import matplotlib.pyplot as plt\n",
        "from sklearn.model_selection import train_test_split\n",
        "from sklearn.metrics import classification_report, accuracy_score\n",
        "import tensorflow as tf\n",
        "from tensorflow.keras.models import Sequential\n",
        "from tensorflow.keras.layers import Conv2D, MaxPooling2D, Flatten, Dense, Dropout\n",
        "from tensorflow.keras.utils import to_categorical\n",
        "import numpy as np # linear algebra\n",
        "import pandas as pd # data processing, CSV file I/O (e.g. pd.read_csv)"
      ],
      "metadata": {
        "id": "kjVVG_hbl0t6"
      },
      "execution_count": null,
      "outputs": []
    },
    {
      "cell_type": "code",
      "execution_count": null,
      "metadata": {
        "id": "JuyxUuGrkmQC"
      },
      "outputs": [],
      "source": [
        "import kagglehub\n",
        "import shutil\n",
        "\n",
        "# Download latest version\n",
        "path = kagglehub.dataset_download(\"navoneel/brain-mri-images-for-brain-tumor-detection\")\n",
        "\n",
        "other_path = kagglehub.dataset_download(\"masoudnickparvar/brain-tumor-mri-dataset\")\n",
        "\n",
        "print(\"Path to dataset files:\", path)\n",
        "print(\"Other Path to dataset files:\", other_path)\n",
        "\n",
        "glioma_dir = other_path + \"/Training/glioma\"\n",
        "meningioma_dir = other_path + \"/Training/meningioma\"\n",
        "pituitary_dir = other_path + \"/Training/pituitary\"\n",
        "notumor_dir = other_path + \"/Training/notumor\"\n"
      ]
    },
    {
      "cell_type": "code",
      "source": [
        "tumor_dir = path + \"/yes\"\n",
        "no_tumor_dir = path + \"/no\"\n",
        "\n",
        "shutil.copytree(glioma_dir, tumor_dir, dirs_exist_ok=True)\n",
        "shutil.copytree(meningioma_dir, tumor_dir, dirs_exist_ok=True)\n",
        "shutil.copytree(pituitary_dir, tumor_dir, dirs_exist_ok=True)\n",
        "shutil.copytree(notumor_dir, no_tumor_dir, dirs_exist_ok=True)\n",
        "\n"
      ],
      "metadata": {
        "id": "tnmtTSESljwS"
      },
      "execution_count": null,
      "outputs": []
    },
    {
      "cell_type": "code",
      "source": [
        "num_tumor_images = len(os.listdir(tumor_dir))\n",
        "num_no_tumor_images = len(os.listdir(no_tumor_dir))\n",
        "\n",
        "print(\"Number of Tumor Images:\", num_tumor_images)\n",
        "print(\"Number of No Tumor Images:\", num_no_tumor_images)"
      ],
      "metadata": {
        "id": "mA2-X1RfnHxY"
      },
      "execution_count": null,
      "outputs": []
    },
    {
      "cell_type": "code",
      "source": [
        "def show_images(folder, title, num_images=4):\n",
        "    images = random.sample(os.listdir(folder), num_images)\n",
        "    fig, axes = plt.subplots(1, num_images, figsize=(15, 5))\n",
        "\n",
        "    for i, img_name in enumerate(images):\n",
        "        img_path = os.path.join(folder, img_name)\n",
        "        img = cv2.imread(img_path)\n",
        "        img = cv2.cvtColor(img, cv2.COLOR_BGR2RGB)\n",
        "        axes[i].imshow(img)\n",
        "        axes[i].axis(\"off\")\n",
        "        axes[i].set_title(title)\n",
        "\n",
        "    plt.show()"
      ],
      "metadata": {
        "id": "mTD9nU9RmYEQ"
      },
      "execution_count": null,
      "outputs": []
    },
    {
      "cell_type": "code",
      "source": [
        "show_images(tumor_dir, \"Tumor MRI\")\n",
        "show_images(no_tumor_dir, \"No Tumor MRI\")"
      ],
      "metadata": {
        "id": "2uL855flnBAw"
      },
      "execution_count": null,
      "outputs": []
    },
    {
      "cell_type": "code",
      "source": [
        "IMG_SIZE = 128\n",
        "\n",
        "def load_and_preprocess_images(folder, label):\n",
        "    images = []\n",
        "    labels = []\n",
        "\n",
        "    for img_name in os.listdir(folder):\n",
        "        img_path = os.path.join(folder, img_name)\n",
        "        img = cv2.imread(img_path, cv2.IMREAD_GRAYSCALE)\n",
        "        img = cv2.resize(img, (IMG_SIZE, IMG_SIZE))\n",
        "        images.append(img)\n",
        "        labels.append(label)\n",
        "\n",
        "    return images, labels\n",
        "\n",
        "tumor_images, tumor_labels = load_and_preprocess_images(tumor_dir, 1)\n",
        "no_tumor_images, no_tumor_labels = load_and_preprocess_images(no_tumor_dir, 0)\n",
        "\n",
        "X = tumor_images + no_tumor_images\n",
        "y = tumor_labels + no_tumor_labels\n",
        "\n",
        "X = np.array(X).reshape(-1, IMG_SIZE, IMG_SIZE, 1)\n",
        "y = np.array(y)\n",
        "\n",
        "X = X / 255.0\n",
        "y = to_categorical(y)\n",
        "\n",
        "X_train, X_test, y_train, y_test = train_test_split(X, y, test_size=0.2, random_state=42)\n",
        "\n",
        "print(\"Shape of X_train:\", X_train.shape)\n",
        "print(\"Shape of y_train:\", y_train.shape)\n",
        "print(\"Shape of X_test:\", X_test.shape)\n",
        "print(\"Shape of y_test:\", y_test.shape)"
      ],
      "metadata": {
        "id": "L6USROTdnG-O"
      },
      "execution_count": null,
      "outputs": []
    },
    {
      "cell_type": "code",
      "source": [
        "model = Sequential([\n",
        "    Conv2D(32, (3, 3), activation='relu', input_shape=(IMG_SIZE, IMG_SIZE, 1)),\n",
        "    MaxPooling2D((2, 2)),\n",
        "    Conv2D(64, (3, 3), activation='relu'),\n",
        "    MaxPooling2D((2, 2)),\n",
        "    Conv2D(128, (3, 3), activation='relu'),\n",
        "    MaxPooling2D((2, 2)),\n",
        "    Flatten(),\n",
        "    Dense(128, activation='relu'),\n",
        "    Dropout(0.5),\n",
        "    Dense(2, activation='sigmoid')\n",
        "])"
      ],
      "metadata": {
        "id": "Vp8wQsCqoY_w"
      },
      "execution_count": null,
      "outputs": []
    },
    {
      "cell_type": "code",
      "source": [
        "model.compile(optimizer='adam', loss='categorical_crossentropy', metrics=['accuracy'])"
      ],
      "metadata": {
        "id": "4D47S8gpowGI"
      },
      "execution_count": null,
      "outputs": []
    },
    {
      "cell_type": "code",
      "source": [
        "history = model.fit(X_train, y_train, epochs=20, batch_size=32, validation_data=(X_test, y_test))"
      ],
      "metadata": {
        "id": "PRWoWGSbo5g3"
      },
      "execution_count": null,
      "outputs": []
    },
    {
      "cell_type": "code",
      "source": [
        "val_loss, val_accuracy = model.evaluate(X_test, y_test)\n",
        "print(\"Validation Loss:\", val_loss)\n",
        "print(\"Validation Accuracy:\", val_accuracy)"
      ],
      "metadata": {
        "id": "IAndSD37o-tm"
      },
      "execution_count": null,
      "outputs": []
    },
    {
      "cell_type": "code",
      "source": [
        "other_path = '/root/.cache/kagglehub/datasets/masoudnickparvar/brain-tumor-mri-dataset/versions/1/Testing/'\n",
        "# Definição das classes e seus respectivos rótulos\n",
        "classes = {\n",
        "    \"glioma\": 1,\n",
        "    \"pituitary\": 1,\n",
        "    \"meningioma\": 1,\n",
        "    \"notumor\": 0\n",
        "}\n",
        "\n",
        "for class_name, label in classes.items():\n",
        "    class_path = os.path.join(other_path, class_name)\n",
        "    image_files = os.listdir(class_path)\n",
        "    print(f\"Existem {len(image_files)} na pasta {class_name}\")\n",
        "\n",
        "# Número de imagens por classe\n",
        "num_images = 300\n",
        "\n",
        "# Lista para armazenar os dados (imagens e labels)\n",
        "dataset = []\n",
        "\n",
        "# Percorre cada classe no dicionário\n",
        "for class_name, label in classes.items():\n",
        "    class_path = os.path.join(other_path, class_name)  # Caminho da classe\n",
        "    image_files = os.listdir(class_path)  # Lista de arquivos na pasta\n",
        "\n",
        "    # Seleciona aleatoriamente `num_images` arquivos\n",
        "    selected_files = random.sample(image_files, min(num_images, len(image_files)))\n",
        "\n",
        "    for file in selected_files:\n",
        "        img_path = os.path.join(class_path, file)  # Caminho completo da imagem\n",
        "        img = cv2.imread(img_path, cv2.IMREAD_GRAYSCALE)  # Lê a imagem com OpenCV\n",
        "\n",
        "        if img is not None:\n",
        "            img = cv2.resize(img, (128, 128))  # Redimensiona para 128x128 (pode ajustar)\n",
        "            dataset.append((img, label))  # Adiciona a imagem e o rótulo\n",
        "\n",
        "# Embaralha o dataset\n",
        "random.shuffle(dataset)\n",
        "\n",
        "# Separar em arrays de imagens e labels\n",
        "X = np.array([data[0] for data in dataset])  # Imagens\n",
        "y = np.array([data[1] for data in dataset])  # Labels\n",
        "\n",
        "print(\"Total de imagens carregadas:\", X.shape)\n",
        "print(\"Total de labels carregados:\", y.shape)"
      ],
      "metadata": {
        "id": "nWB-nTETTt-b"
      },
      "execution_count": null,
      "outputs": []
    },
    {
      "cell_type": "code",
      "source": [
        "# Normaliza as imagens de teste\n",
        "X_test_analysis = X / 255.0\n",
        "y_test_analysis = to_categorical(y)\n",
        "\n",
        "# Faz a predição com o modelo treinado\n",
        "y_pred = model.predict(X_test_analysis)\n",
        "\n",
        "# Converte as predições e os labels reais para valores binários (0 ou 1)\n",
        "y_pred_labels = np.argmax(y_pred, axis=1)\n",
        "y_true_labels = np.argmax(y_test_analysis, axis=1)\n",
        "\n",
        "# Contadores de acertos e erros\n",
        "acertos = 0\n",
        "erros = 0\n",
        "\n",
        "# Define o número de imagens a serem analisadas\n",
        "num_images_to_show = len(X_test_analysis)\n",
        "\n",
        "# Exibe as imagens e as previsões\n",
        "for i in range(num_images_to_show):\n",
        "    real = y_true_labels[i]\n",
        "    previsto = y_pred_labels[i]\n",
        "\n",
        "    # Define cor do texto\n",
        "    if real == previsto:\n",
        "        acertos += 1\n",
        "    else:\n",
        "        erros += 1\n",
        "\n",
        "    # Mostra a imagem\n",
        "    plt.imshow(X_test_analysis[i].reshape(128, 128), cmap='gray')  # Ajuste o tamanho conforme necessário\n",
        "    plt.title(f\"Real: {real} | Previsto: {previsto}\")  # Define a cor e reseta no final\n",
        "    plt.axis('off')\n",
        "    plt.show()\n",
        "\n",
        "# Mostra o relatório de classificação\n",
        "print(\"\\n\" + classification_report(y_true_labels, y_pred_labels))\n",
        "\n",
        "# Exibe a acurácia do modelo\n",
        "accuracy = accuracy_score(y_true_labels, y_pred_labels)\n",
        "print(f\"\\nAcurácia: {accuracy:.4f}\")\n",
        "\n",
        "# Exibe a contagem de acertos e erros\n",
        "print(f\"\\033[92mAcertos: {acertos}\\033[0m\")  # Verde\n",
        "print(f\"\\033[91mErros: {erros}\\033[0m\")  # Vermelho"
      ],
      "metadata": {
        "id": "IOiIAA5JpIwl"
      },
      "execution_count": null,
      "outputs": []
    }
  ]
}